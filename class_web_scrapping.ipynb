{
 "cells": [
  {
   "cell_type": "code",
   "execution_count": 2,
   "metadata": {},
   "outputs": [],
   "source": [
    "from bs4 import BeautifulSoup\n",
    "import requests\n",
    "\n",
    "import mysql.connector as mysql\n",
    "from mysql.connector import Error\n"
   ]
  },
  {
   "cell_type": "code",
   "execution_count": 81,
   "metadata": {},
   "outputs": [],
   "source": [
    "class Allo_cine: \n",
    "    @staticmethod  \n",
    "    def web_scrapping(num_film, num_page, nom_table):\n",
    "        user = 'root'\n",
    "        password = 'example'\n",
    "        host = 'localhost'\n",
    "        port = 3308\n",
    "        database = 'allociné'\n",
    "\n",
    "        try:\n",
    "            conn = mysql.connect(host=host, port=port, user=user, password=password, database=database)\n",
    "            if conn.is_connected():\n",
    "                cursor = conn.cursor()\n",
    "                for i in range(1, num_page + 1):\n",
    "                    url = f'https://www.allocine.fr/film/fichefilm-{num_film}/critiques/spectateurs/?page={i}'\n",
    "                    response = requests.get(url)\n",
    "                    soup = BeautifulSoup(response.text, 'html.parser')\n",
    "\n",
    "                    links = soup.findAll(\n",
    "                        'div', {\"class\": \"hred review-card cf\"})\n",
    "\n",
    "                    for link in links:\n",
    "                        try:\n",
    "                            note = link.find(\n",
    "                                \"span\", {'class': \"stareval-note\"}).text.replace(',', '.')\n",
    "                            commentaire = link.find(\n",
    "                                \"div\", {'class': \"content-txt review-card-content\"}).text.replace('\"', '')\n",
    "\n",
    "                            sql = f\"\"\"INSERT INTO {nom_table} (note, commentaire) VALUES ({float(note)}, \"{commentaire}\")\"\"\"\n",
    "                            cursor.execute(sql)\n",
    "                            print(\"Record inserted\")\n",
    "                            conn.commit()\n",
    "                            conn.close()\n",
    "                            cursor.close()\n",
    "                        except Error as e:\n",
    "                            print(e)\n",
    "                            print(note)\n",
    "                            print(commentaire)\n",
    "        except Error as e:\n",
    "            print(\"Error while connecting to MySQL\", e)\n"
   ]
  },
  {
   "cell_type": "code",
   "execution_count": 16,
   "metadata": {},
   "outputs": [
    {
     "ename": "TypeError",
     "evalue": "Allo_cine.num_film() missing 1 required positional argument: 'num_film'",
     "output_type": "error",
     "traceback": [
      "\u001b[1;31m---------------------------------------------------------------------------\u001b[0m",
      "\u001b[1;31mTypeError\u001b[0m                                 Traceback (most recent call last)",
      "Cell \u001b[1;32mIn[16], line 2\u001b[0m\n\u001b[0;32m      1\u001b[0m Allo_cine\u001b[39m.\u001b[39mnum_film(\u001b[39m228395\u001b[39m)\n\u001b[1;32m----> 2\u001b[0m Allo_cine\u001b[39m.\u001b[39;49mnombre_page()\n",
      "Cell \u001b[1;32mIn[14], line 8\u001b[0m, in \u001b[0;36mAllo_cine.nombre_page\u001b[1;34m()\u001b[0m\n\u001b[0;32m      7\u001b[0m \u001b[39mdef\u001b[39;00m \u001b[39mnombre_page\u001b[39m():\n\u001b[1;32m----> 8\u001b[0m     url \u001b[39m=\u001b[39m \u001b[39mf\u001b[39m\u001b[39m'\u001b[39m\u001b[39mhttps://www.allocine.fr/film/fichefilm-\u001b[39m\u001b[39m{\u001b[39;00mAllo_cine\u001b[39m.\u001b[39;49mnum_film()\u001b[39m}\u001b[39;00m\u001b[39m/critiques/spectateurs/?page=\u001b[39m\u001b[39m{\u001b[39;00mi\u001b[39m}\u001b[39;00m\u001b[39m'\u001b[39m\n\u001b[0;32m      9\u001b[0m     response \u001b[39m=\u001b[39m requests\u001b[39m.\u001b[39mget(url)\n\u001b[0;32m     10\u001b[0m     soup \u001b[39m=\u001b[39m BeautifulSoup(response\u001b[39m.\u001b[39mtext, \u001b[39m'\u001b[39m\u001b[39mhtml.parser\u001b[39m\u001b[39m'\u001b[39m)\n",
      "\u001b[1;31mTypeError\u001b[0m: Allo_cine.num_film() missing 1 required positional argument: 'num_film'"
     ]
    }
   ],
   "source": [
    "Allo_cine.web_scrapping(11478, 23,'stargate')"
   ]
  },
  {
   "cell_type": "code",
   "execution_count": 72,
   "metadata": {},
   "outputs": [],
   "source": [
    "class Humain:\n",
    "\n",
    "    nombre_humain = 0\n",
    "    lieu_habitation = 'Terre'\n",
    "\n",
    "    def __init__(self, c_prenom, c_age):\n",
    "        self.prenom= c_prenom\n",
    "        self.age = c_age\n",
    "        Humain.nombre_humain += 1\n",
    "\n",
    "    def parler(self, message):\n",
    "        print(message + ' de ' + self.prenom)\n",
    "    \n",
    "    @classmethod\n",
    "    def changer_planete(cls, nouvelle_planete):\n",
    "        Humain.lieu_habitation = nouvelle_planete\n",
    "    \n",
    "    @staticmethod\n",
    "    def definition():\n",
    "        print('blabla')\n",
    "\n"
   ]
  },
  {
   "cell_type": "code",
   "execution_count": 80,
   "metadata": {},
   "outputs": [
    {
     "ename": "TypeError",
     "evalue": "Humain.__init__() missing 1 required positional argument: 'c_age'",
     "output_type": "error",
     "traceback": [
      "\u001b[1;31m---------------------------------------------------------------------------\u001b[0m",
      "\u001b[1;31mTypeError\u001b[0m                                 Traceback (most recent call last)",
      "Cell \u001b[1;32mIn[80], line 1\u001b[0m\n\u001b[1;32m----> 1\u001b[0m h1 \u001b[39m=\u001b[39m Humain(\u001b[39m'\u001b[39;49m\u001b[39mJojo\u001b[39;49m\u001b[39m'\u001b[39;49m)\n\u001b[0;32m      2\u001b[0m h2 \u001b[39m=\u001b[39m Humain(\u001b[39m'\u001b[39m\u001b[39mGege\u001b[39m\u001b[39m'\u001b[39m, \u001b[39m14\u001b[39m)\n\u001b[0;32m      4\u001b[0m \u001b[39mprint\u001b[39m(h1\u001b[39m.\u001b[39mage)\n",
      "\u001b[1;31mTypeError\u001b[0m: Humain.__init__() missing 1 required positional argument: 'c_age'"
     ]
    }
   ],
   "source": [
    "h1 = Humain('Jojo')\n",
    "h2 = Humain('Gege', 14)\n",
    "\n",
    "print(h1.age)\n",
    "\n",
    "Humain.changer_planete('Mars')\n",
    "print(Humain.lieu_habitation)\n",
    "\n",
    "Humain.definition()\n",
    "print(h1.age)\n"
   ]
  }
 ],
 "metadata": {
  "kernelspec": {
   "display_name": ".venv",
   "language": "python",
   "name": "python3"
  },
  "language_info": {
   "codemirror_mode": {
    "name": "ipython",
    "version": 3
   },
   "file_extension": ".py",
   "mimetype": "text/x-python",
   "name": "python",
   "nbconvert_exporter": "python",
   "pygments_lexer": "ipython3",
   "version": "3.10.9 (tags/v3.10.9:1dd9be6, Dec  6 2022, 20:01:21) [MSC v.1934 64 bit (AMD64)]"
  },
  "orig_nbformat": 4,
  "vscode": {
   "interpreter": {
    "hash": "f394ba83058c5a142df3c7e87c8296842715c2e07fd446e3acfd6cb9b123e2dc"
   }
  }
 },
 "nbformat": 4,
 "nbformat_minor": 2
}
