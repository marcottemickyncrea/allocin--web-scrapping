{
 "cells": [
  {
   "cell_type": "code",
   "execution_count": 1,
   "metadata": {},
   "outputs": [],
   "source": [
    "from bs4 import BeautifulSoup\n",
    "import requests\n",
    "\n",
    "import mysql.connector as mysql\n",
    "from mysql.connector import Error"
   ]
  },
  {
   "cell_type": "code",
   "execution_count": 1,
   "metadata": {},
   "outputs": [
    {
     "ename": "NameError",
     "evalue": "name 'Error' is not defined",
     "output_type": "error",
     "traceback": [
      "\u001b[1;31m---------------------------------------------------------------------------\u001b[0m",
      "\u001b[1;31mNameError\u001b[0m                                 Traceback (most recent call last)",
      "Cell \u001b[1;32mIn[1], line 8\u001b[0m\n\u001b[0;32m      7\u001b[0m \u001b[39mtry\u001b[39;00m:\n\u001b[1;32m----> 8\u001b[0m     conn \u001b[39m=\u001b[39m mysql\u001b[39m.\u001b[39mconnect(host\u001b[39m=\u001b[39mhost, port\u001b[39m=\u001b[39mport, user\u001b[39m=\u001b[39muser, password\u001b[39m=\u001b[39mpassword, database\u001b[39m=\u001b[39mdatabase)\n\u001b[0;32m      9\u001b[0m     \u001b[39mif\u001b[39;00m conn\u001b[39m.\u001b[39mis_connected():\n",
      "\u001b[1;31mNameError\u001b[0m: name 'mysql' is not defined",
      "\nDuring handling of the above exception, another exception occurred:\n",
      "\u001b[1;31mNameError\u001b[0m                                 Traceback (most recent call last)",
      "Cell \u001b[1;32mIn[1], line 34\u001b[0m\n\u001b[0;32m     32\u001b[0m                     \u001b[39mprint\u001b[39m(note)\n\u001b[0;32m     33\u001b[0m                     \u001b[39mprint\u001b[39m(commentaire)\n\u001b[1;32m---> 34\u001b[0m \u001b[39mexcept\u001b[39;00m Error \u001b[39mas\u001b[39;00m e:\n\u001b[0;32m     35\u001b[0m             \u001b[39mprint\u001b[39m(\u001b[39m\"\u001b[39m\u001b[39mError while connecting to MySQL\u001b[39m\u001b[39m\"\u001b[39m, e)\n",
      "\u001b[1;31mNameError\u001b[0m: name 'Error' is not defined"
     ]
    }
   ],
   "source": [
    "user = 'root'\n",
    "password = 'example'\n",
    "host = 'localhost'\n",
    "port = 3308\n",
    "database = 'allociné'\n",
    "\n",
    "try:\n",
    "    conn = mysql.connect(host=host, port=port, user=user, password=password, database=database)\n",
    "    if conn.is_connected():\n",
    "        cursor = conn.cursor()\n",
    "        \n",
    "        for i in range(1, 668):\n",
    "            url = f'https://www.allocine.fr/film/fichefilm-61282/critiques/spectateurs/?page={i}'\n",
    "            response = requests.get(url)\n",
    "            soup = BeautifulSoup(response.text,'html.parser')\n",
    "\n",
    "            links=soup.findAll('div', {\"class\": \"hred review-card cf\"})\n",
    "    \n",
    "            cursor = conn.cursor()\n",
    "\n",
    "            for link in links:\n",
    "                try:    \n",
    "                    note = link.find(\"span\", {'class':\"stareval-note\"}).text.replace(',', '.')      \n",
    "                    commentaire = link.find(\"div\", {'class':\"content-txt review-card-content\"}).text.replace('\"', '')\n",
    "\n",
    "                    sql = f\"\"\"INSERT INTO avatar1 (note, commentaire) VALUES ({float(note)}, \"{commentaire}\")\"\"\"\n",
    "                    cursor.execute(sql)\n",
    "                    print(\"Record inserted\")\n",
    "                    conn.commit()\n",
    "                except Error as e:\n",
    "                    print(e)\n",
    "                    print(note)\n",
    "                    print(commentaire)\n",
    "except Error as e:\n",
    "            print(\"Error while connecting to MySQL\", e)"
   ]
  },
  {
   "cell_type": "code",
   "execution_count": 7,
   "metadata": {},
   "outputs": [
    {
     "name": "stdout",
     "output_type": "stream",
     "text": [
      "[(10019, \"\\nmagnifique un pur chef d'oeuvre . a voir absolument en 3D !!! Des décords a couper le souffle des personnages tres attachant .que dire d autre a part bravo\\n\")]\n"
     ]
    }
   ],
   "source": [
    "sql = \"SELECT id_commentaire, commentaire FROM allociné.avatar1 ORDER BY id_commentaire DESC LIMIT 1\"\n",
    "cursor.execute(sql)\n",
    "result = cursor.fetchall()\n",
    "print(result)"
   ]
  }
 ],
 "metadata": {
  "kernelspec": {
   "display_name": ".venv",
   "language": "python",
   "name": "python3"
  },
  "language_info": {
   "codemirror_mode": {
    "name": "ipython",
    "version": 3
   },
   "file_extension": ".py",
   "mimetype": "text/x-python",
   "name": "python",
   "nbconvert_exporter": "python",
   "pygments_lexer": "ipython3",
   "version": "3.10.9 (tags/v3.10.9:1dd9be6, Dec  6 2022, 20:01:21) [MSC v.1934 64 bit (AMD64)]"
  },
  "orig_nbformat": 4,
  "vscode": {
   "interpreter": {
    "hash": "f394ba83058c5a142df3c7e87c8296842715c2e07fd446e3acfd6cb9b123e2dc"
   }
  }
 },
 "nbformat": 4,
 "nbformat_minor": 2
}
